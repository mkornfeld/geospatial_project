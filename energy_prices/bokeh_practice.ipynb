{
 "cells": [
  {
   "cell_type": "code",
   "execution_count": 11,
   "id": "6d725494",
   "metadata": {},
   "outputs": [],
   "source": [
    "from bokeh.plotting import figure, output_file, show"
   ]
  },
  {
   "cell_type": "code",
   "execution_count": 12,
   "id": "0d252353",
   "metadata": {},
   "outputs": [],
   "source": [
    "graph = figure(title = 'Bokeh line graph')"
   ]
  },
  {
   "cell_type": "code",
   "execution_count": 13,
   "id": "cd8a057a",
   "metadata": {},
   "outputs": [],
   "source": [
    "x = [1, 2, 3, 4, 5] \n",
    "y = [5, 4, 3, 2, 1] "
   ]
  },
  {
   "cell_type": "code",
   "execution_count": 21,
   "id": "2384d6ed",
   "metadata": {},
   "outputs": [
    {
     "data": {
      "text/html": [
       "<div style=\"display: table;\"><div style=\"display: table-row;\"><div style=\"display: table-cell;\"><b title=\"bokeh.models.renderers.glyph_renderer.GlyphRenderer\">GlyphRenderer</b>(</div><div style=\"display: table-cell;\">id&nbsp;=&nbsp;'p1168', <span id=\"p1173\" style=\"cursor: pointer;\">&hellip;)</span></div></div><div class=\"p1172\" style=\"display: none;\"><div style=\"display: table-cell;\"></div><div style=\"display: table-cell;\">coordinates&nbsp;=&nbsp;None,</div></div><div class=\"p1172\" style=\"display: none;\"><div style=\"display: table-cell;\"></div><div style=\"display: table-cell;\">data_source&nbsp;=&nbsp;ColumnDataSource(id='p1162', ...),</div></div><div class=\"p1172\" style=\"display: none;\"><div style=\"display: table-cell;\"></div><div style=\"display: table-cell;\">glyph&nbsp;=&nbsp;Line(id='p1165', ...),</div></div><div class=\"p1172\" style=\"display: none;\"><div style=\"display: table-cell;\"></div><div style=\"display: table-cell;\">group&nbsp;=&nbsp;None,</div></div><div class=\"p1172\" style=\"display: none;\"><div style=\"display: table-cell;\"></div><div style=\"display: table-cell;\">hover_glyph&nbsp;=&nbsp;None,</div></div><div class=\"p1172\" style=\"display: none;\"><div style=\"display: table-cell;\"></div><div style=\"display: table-cell;\">js_event_callbacks&nbsp;=&nbsp;{},</div></div><div class=\"p1172\" style=\"display: none;\"><div style=\"display: table-cell;\"></div><div style=\"display: table-cell;\">js_property_callbacks&nbsp;=&nbsp;{},</div></div><div class=\"p1172\" style=\"display: none;\"><div style=\"display: table-cell;\"></div><div style=\"display: table-cell;\">level&nbsp;=&nbsp;'glyph',</div></div><div class=\"p1172\" style=\"display: none;\"><div style=\"display: table-cell;\"></div><div style=\"display: table-cell;\">muted&nbsp;=&nbsp;False,</div></div><div class=\"p1172\" style=\"display: none;\"><div style=\"display: table-cell;\"></div><div style=\"display: table-cell;\">muted_glyph&nbsp;=&nbsp;Line(id='p1167', ...),</div></div><div class=\"p1172\" style=\"display: none;\"><div style=\"display: table-cell;\"></div><div style=\"display: table-cell;\">name&nbsp;=&nbsp;None,</div></div><div class=\"p1172\" style=\"display: none;\"><div style=\"display: table-cell;\"></div><div style=\"display: table-cell;\">nonselection_glyph&nbsp;=&nbsp;Line(id='p1166', ...),</div></div><div class=\"p1172\" style=\"display: none;\"><div style=\"display: table-cell;\"></div><div style=\"display: table-cell;\">propagate_hover&nbsp;=&nbsp;False,</div></div><div class=\"p1172\" style=\"display: none;\"><div style=\"display: table-cell;\"></div><div style=\"display: table-cell;\">selection_glyph&nbsp;=&nbsp;'auto',</div></div><div class=\"p1172\" style=\"display: none;\"><div style=\"display: table-cell;\"></div><div style=\"display: table-cell;\">subscribed_events&nbsp;=&nbsp;PropertyValueSet(),</div></div><div class=\"p1172\" style=\"display: none;\"><div style=\"display: table-cell;\"></div><div style=\"display: table-cell;\">syncable&nbsp;=&nbsp;True,</div></div><div class=\"p1172\" style=\"display: none;\"><div style=\"display: table-cell;\"></div><div style=\"display: table-cell;\">tags&nbsp;=&nbsp;[],</div></div><div class=\"p1172\" style=\"display: none;\"><div style=\"display: table-cell;\"></div><div style=\"display: table-cell;\">view&nbsp;=&nbsp;CDSView(id='p1169', ...),</div></div><div class=\"p1172\" style=\"display: none;\"><div style=\"display: table-cell;\"></div><div style=\"display: table-cell;\">visible&nbsp;=&nbsp;True,</div></div><div class=\"p1172\" style=\"display: none;\"><div style=\"display: table-cell;\"></div><div style=\"display: table-cell;\">x_range_name&nbsp;=&nbsp;'default',</div></div><div class=\"p1172\" style=\"display: none;\"><div style=\"display: table-cell;\"></div><div style=\"display: table-cell;\">y_range_name&nbsp;=&nbsp;'default')</div></div></div>\n",
       "<script>\n",
       "(function() {\n",
       "  let expanded = false;\n",
       "  const ellipsis = document.getElementById(\"p1173\");\n",
       "  ellipsis.addEventListener(\"click\", function() {\n",
       "    const rows = document.getElementsByClassName(\"p1172\");\n",
       "    for (let i = 0; i < rows.length; i++) {\n",
       "      const el = rows[i];\n",
       "      el.style.display = expanded ? \"none\" : \"table-row\";\n",
       "    }\n",
       "    ellipsis.innerHTML = expanded ? \"&hellip;)\" : \"&lsaquo;&lsaquo;&lsaquo;\";\n",
       "    expanded = !expanded;\n",
       "  });\n",
       "})();\n",
       "</script>\n"
      ],
      "text/plain": [
       "GlyphRenderer(id='p1168', ...)"
      ]
     },
     "execution_count": 21,
     "metadata": {},
     "output_type": "execute_result"
    }
   ],
   "source": [
    "graph.line(x,y, legend_label = \"Line 1\")"
   ]
  },
  {
   "cell_type": "code",
   "execution_count": 24,
   "id": "16ef3317",
   "metadata": {
    "scrolled": true
   },
   "outputs": [],
   "source": [
    "graph.line(x,x, legend_label = \"Line 1\")\n",
    "graph.line(y,x,legend_label = \"Line 2\",\n",
    "              line_color = \"green\")\n",
    "graph.legend.title = \"Title of the legend\"\n",
    "graph.legend.location =\"top_left\"\n",
    "graph.legend.label_text_font_size = \"17pt\"\n",
    "  \n",
    "# displaying the model\n",
    "show(graph)"
   ]
  },
  {
   "cell_type": "code",
   "execution_count": 25,
   "id": "43699720",
   "metadata": {},
   "outputs": [],
   "source": [
    "graph = figure(title = \"Bokeh Multiple Polygons Graph\") \n",
    "      \n",
    "# the points to be plotted \n",
    "xs = [[[[1, 1, 3, 4]]]] \n",
    "ys = [[[[1, 3, 2 ,1]]]] \n",
    "      \n",
    "# plotting the graph \n",
    "graph.multi_polygons(xs, ys) \n",
    "      \n",
    "# displaying the model \n",
    "show(graph) "
   ]
  },
  {
   "cell_type": "code",
   "execution_count": 27,
   "id": "4c257748",
   "metadata": {},
   "outputs": [],
   "source": [
    "from bokeh.io import show\n",
    "from bokeh.models import CustomJS, Slider\n",
    "  \n",
    "slider = Slider(start=1, end=20, value=1, step=2, title=\"Slider\")\n",
    "  \n",
    "slider.js_on_change(\"value\", CustomJS(code=\"\"\"\n",
    "    console.log('slider: value=' + this.value, this.toString())\n",
    "\"\"\"))\n",
    "  \n",
    "show(slider)"
   ]
  },
  {
   "cell_type": "code",
   "execution_count": 36,
   "id": "7bc1089e",
   "metadata": {
    "scrolled": true
   },
   "outputs": [
    {
     "name": "stdout",
     "output_type": "stream",
     "text": [
      "Creating /Users/myleskornfeld/.bokeh directory\n",
      "Creating /Users/myleskornfeld/.bokeh/data directory\n",
      "Using data directory: /Users/myleskornfeld/.bokeh/data\n",
      "Fetching 'CGM.csv'\n",
      "Downloading: CGM.csv (1589982 bytes)\n",
      " 1589982   [100.00%%]\n",
      "Fetching 'US_Counties.zip'\n",
      "Downloading: US_Counties.zip (3171836 bytes)\n",
      " 3171836   [100.00%%]\n",
      "Unpacking: US_Counties.csv\n",
      "Fetching 'us_cities.json'\n",
      "Downloading: us_cities.json (713565 bytes)\n",
      " 713565    [100.00%%]\n",
      "Fetching 'unemployment09.csv'\n",
      "Downloading: unemployment09.csv (253301 bytes)\n",
      " 253301    [100.00%%]\n",
      "Fetching 'AAPL.csv'\n",
      "Downloading: AAPL.csv (166698 bytes)\n",
      " 166698    [100.00%%]\n",
      "Fetching 'FB.csv'\n",
      "Downloading: FB.csv (9706 bytes)\n",
      " 9706      [100.00%%]\n",
      "Fetching 'GOOG.csv'\n",
      "Downloading: GOOG.csv (113894 bytes)\n",
      " 113894    [100.00%%]\n",
      "Fetching 'IBM.csv'\n",
      "Downloading: IBM.csv (165625 bytes)\n",
      " 165625    [100.00%%]\n",
      "Fetching 'MSFT.csv'\n",
      "Downloading: MSFT.csv (161614 bytes)\n",
      " 161614    [100.00%%]\n",
      "Fetching 'WPP2012_SA_DB03_POPULATION_QUINQUENNIAL.zip'\n",
      "Downloading: WPP2012_SA_DB03_POPULATION_QUINQUENNIAL.zip (4816256 bytes)\n",
      " 4816256   [100.00%%]\n",
      "Unpacking: WPP2012_SA_DB03_POPULATION_QUINQUENNIAL.csv\n",
      "Fetching 'gapminder_fertility.csv'\n",
      "Downloading: gapminder_fertility.csv (64346 bytes)\n",
      " 64346     [100.00%%]\n",
      "Fetching 'gapminder_population.csv'\n",
      "Downloading: gapminder_population.csv (94509 bytes)\n",
      " 94509     [100.00%%]\n",
      "Fetching 'gapminder_life_expectancy.csv'\n",
      "Downloading: gapminder_life_expectancy.csv (73243 bytes)\n",
      " 73243     [100.00%%]\n",
      "Fetching 'gapminder_regions.csv'\n",
      "Downloading: gapminder_regions.csv (7781 bytes)\n",
      " 7781      [100.00%%]\n",
      "Fetching 'world_cities.zip'\n",
      "Downloading: world_cities.zip (645274 bytes)\n",
      " 645274    [100.00%%]\n",
      "Unpacking: world_cities.csv\n",
      "Fetching 'airports.json'\n",
      "Downloading: airports.json (6373 bytes)\n",
      " 6373      [100.00%%]\n",
      "Fetching 'movies.db.zip'\n",
      "Downloading: movies.db.zip (5053420 bytes)\n",
      " 5053420   [100.00%%]\n",
      "Unpacking: movies.db\n",
      "Fetching 'airports.csv'\n",
      "Downloading: airports.csv (203190 bytes)\n",
      " 203190    [100.00%%]\n",
      "Fetching 'routes.csv'\n",
      "Downloading: routes.csv (377280 bytes)\n",
      " 377280    [100.00%%]\n",
      "Fetching 'haarcascade_frontalface_default.xml'\n",
      "Downloading: haarcascade_frontalface_default.xml (930127 bytes)\n",
      " 930127    [100.00%%]\n",
      "Fetching 'SampleSuperstore.csv.zip'\n",
      "Downloading: SampleSuperstore.csv.zip (167457 bytes)\n",
      " 167457    [100.00%%]\n",
      "Unpacking: SampleSuperstore.csv\n"
     ]
    }
   ],
   "source": [
    "import bokeh\n",
    "bokeh.sampledata.download()\n",
    "from bokeh.sampledata.us_states import data as states\n",
    "from bokeh.sampledata.us_counties import data as counties\n"
   ]
  },
  {
   "cell_type": "code",
   "execution_count": 37,
   "id": "560b26e6",
   "metadata": {},
   "outputs": [
    {
     "ename": "KeyError",
     "evalue": "'HI'",
     "output_type": "error",
     "traceback": [
      "\u001b[0;31m---------------------------------------------------------------------------\u001b[0m",
      "\u001b[0;31mKeyError\u001b[0m                                  Traceback (most recent call last)",
      "Input \u001b[0;32mIn [37]\u001b[0m, in \u001b[0;36m<cell line: 1>\u001b[0;34m()\u001b[0m\n\u001b[0;32m----> 1\u001b[0m \u001b[38;5;28;01mdel\u001b[39;00m states[\u001b[38;5;124m\"\u001b[39m\u001b[38;5;124mHI\u001b[39m\u001b[38;5;124m\"\u001b[39m]\n\u001b[1;32m      2\u001b[0m \u001b[38;5;28;01mdel\u001b[39;00m states[\u001b[38;5;124m\"\u001b[39m\u001b[38;5;124mAK\u001b[39m\u001b[38;5;124m\"\u001b[39m]\n\u001b[1;32m      4\u001b[0m EXCLUDED \u001b[38;5;241m=\u001b[39m (\u001b[38;5;124m\"\u001b[39m\u001b[38;5;124mak\u001b[39m\u001b[38;5;124m\"\u001b[39m, \u001b[38;5;124m\"\u001b[39m\u001b[38;5;124mhi\u001b[39m\u001b[38;5;124m\"\u001b[39m, \u001b[38;5;124m\"\u001b[39m\u001b[38;5;124mpr\u001b[39m\u001b[38;5;124m\"\u001b[39m, \u001b[38;5;124m\"\u001b[39m\u001b[38;5;124mgu\u001b[39m\u001b[38;5;124m\"\u001b[39m, \u001b[38;5;124m\"\u001b[39m\u001b[38;5;124mvi\u001b[39m\u001b[38;5;124m\"\u001b[39m, \u001b[38;5;124m\"\u001b[39m\u001b[38;5;124mmp\u001b[39m\u001b[38;5;124m\"\u001b[39m, \u001b[38;5;124m\"\u001b[39m\u001b[38;5;124mas\u001b[39m\u001b[38;5;124m\"\u001b[39m)\n",
      "\u001b[0;31mKeyError\u001b[0m: 'HI'"
     ]
    }
   ],
   "source": [
    "del states[\"HI\"]\n",
    "del states[\"AK\"]\n",
    "\n",
    "EXCLUDED = (\"ak\", \"hi\", \"pr\", \"gu\", \"vi\", \"mp\", \"as\")"
   ]
  },
  {
   "cell_type": "code",
   "execution_count": 39,
   "id": "61645a0c",
   "metadata": {},
   "outputs": [],
   "source": [
    "state_xs = [states[code][\"lons\"] for code in states]\n",
    "state_ys = [states[code][\"lats\"] for code in states]\n",
    "\n",
    "county_xs=[counties[code][\"lons\"] for code in counties if counties[code][\"state\"] not in EXCLUDED]\n",
    "county_ys=[counties[code][\"lats\"] for code in counties if counties[code][\"state\"] not in EXCLUDED]\n"
   ]
  },
  {
   "cell_type": "code",
   "execution_count": 40,
   "id": "2f2b738e",
   "metadata": {},
   "outputs": [],
   "source": [
    "colors = [\"#F1EEF6\", \"#D4B9DA\", \"#C994C7\", \"#DF65B0\", \"#DD1C77\", \"#980043\"]\n"
   ]
  },
  {
   "cell_type": "code",
   "execution_count": 41,
   "id": "a29d8d68",
   "metadata": {},
   "outputs": [
    {
     "ename": "NameError",
     "evalue": "name 'unemployment' is not defined",
     "output_type": "error",
     "traceback": [
      "\u001b[0;31m---------------------------------------------------------------------------\u001b[0m",
      "\u001b[0;31mNameError\u001b[0m                                 Traceback (most recent call last)",
      "Input \u001b[0;32mIn [41]\u001b[0m, in \u001b[0;36m<cell line: 2>\u001b[0;34m()\u001b[0m\n\u001b[1;32m      4\u001b[0m     \u001b[38;5;28;01mcontinue\u001b[39;00m\n\u001b[1;32m      5\u001b[0m \u001b[38;5;28;01mtry\u001b[39;00m:\n\u001b[0;32m----> 6\u001b[0m     rate \u001b[38;5;241m=\u001b[39m \u001b[43munemployment\u001b[49m[county_id]\n\u001b[1;32m      7\u001b[0m     idx \u001b[38;5;241m=\u001b[39m \u001b[38;5;28mint\u001b[39m(rate\u001b[38;5;241m/\u001b[39m\u001b[38;5;241m6\u001b[39m)\n\u001b[1;32m      8\u001b[0m     county_colors\u001b[38;5;241m.\u001b[39mappend(colors[idx])\n",
      "\u001b[0;31mNameError\u001b[0m: name 'unemployment' is not defined"
     ]
    }
   ],
   "source": [
    "county_colors = []\n",
    "for county_id in counties:\n",
    "    if counties[county_id][\"state\"] in EXCLUDED:\n",
    "        continue\n",
    "    try:\n",
    "        rate = unemployment[county_id]\n",
    "        idx = int(rate/6)\n",
    "        county_colors.append(colors[idx])\n",
    "    except KeyError:\n",
    "        county_colors.append(\"black\")"
   ]
  },
  {
   "cell_type": "code",
   "execution_count": 48,
   "id": "28cdf149",
   "metadata": {},
   "outputs": [
    {
     "ename": "NameError",
     "evalue": "name 'all_data_residential' is not defined",
     "output_type": "error",
     "traceback": [
      "\u001b[0;31m---------------------------------------------------------------------------\u001b[0m",
      "\u001b[0;31mNameError\u001b[0m                                 Traceback (most recent call last)",
      "Input \u001b[0;32mIn [48]\u001b[0m, in \u001b[0;36m<cell line: 1>\u001b[0;34m()\u001b[0m\n\u001b[0;32m----> 1\u001b[0m \u001b[43mall_data_residential\u001b[49m\n",
      "\u001b[0;31mNameError\u001b[0m: name 'all_data_residential' is not defined"
     ]
    }
   ],
   "source": [
    "all_data_residential"
   ]
  },
  {
   "cell_type": "code",
   "execution_count": 46,
   "id": "7f68797d",
   "metadata": {},
   "outputs": [],
   "source": [
    "from bokeh.plotting import figure, show, output_file\n",
    "from bokeh.sampledata.us_counties import data as counties\n",
    "from bokeh.sampledata.us_states import data as states\n",
    "from bokeh.sampledata.unemployment import data as unemployment\n",
    "\n",
    "\n",
    "EXCLUDED = (\"ak\", \"hi\", \"pr\", \"gu\", \"vi\", \"mp\", \"as\")\n",
    "\n",
    "state_xs = [states[code][\"lons\"] for code in states]\n",
    "state_ys = [states[code][\"lats\"] for code in states]\n",
    "\n",
    "county_xs=[counties[code][\"lons\"] for code in counties if counties[code][\"state\"] not in EXCLUDED]\n",
    "county_ys=[counties[code][\"lats\"] for code in counties if counties[code][\"state\"] not in EXCLUDED]\n",
    "\n",
    "colors = [\"#F1EEF6\", \"#D4B9DA\", \"#C994C7\", \"#DF65B0\", \"#DD1C77\", \"#980043\"]\n",
    "\n",
    "county_colors = []\n",
    "for county_id in counties:\n",
    "    if counties[county_id][\"state\"] in EXCLUDED:\n",
    "        continue\n",
    "    try:\n",
    "        rate = unemployment[county_id]\n",
    "        idx = int(rate/4)\n",
    "        county_colors.append(colors[idx])\n",
    "    except KeyError:\n",
    "        county_colors.append(\"black\")\n",
    "\n",
    "p = figure(title=\"US Unemployment 2009\", toolbar_location=\"left\",\n",
    "           width=1100, height=700)\n",
    "\n",
    "p.patches(county_xs, county_ys,\n",
    "          fill_color=county_colors, fill_alpha=0.7,\n",
    "          line_color=\"white\", line_width=0.5)\n",
    "\n",
    "p.patches(state_xs, state_ys, fill_alpha=0.0,\n",
    "          line_color=\"#884444\", line_width=2, line_alpha=0.3)\n",
    "\n",
    "output_file(\"choropleth.html\", title=\"choropleth.py example\")\n",
    "\n",
    "show(p)"
   ]
  },
  {
   "cell_type": "code",
   "execution_count": 52,
   "id": "c183f404",
   "metadata": {},
   "outputs": [],
   "source": [
    "from bokeh.io import output_notebook, show\n",
    "from bokeh.models import Slider, GeoJSONDataSource, ColorBar\n",
    "from bokeh.palettes import Viridis256\n",
    "from bokeh.plotting import figure\n",
    "from bokeh.layouts import column\n",
    "from bokeh.sampledata.us_states import data as states\n",
    "import pandas as pd"
   ]
  },
  {
   "cell_type": "code",
   "execution_count": 55,
   "id": "396153ec",
   "metadata": {},
   "outputs": [],
   "source": [
    "def get_geojson_data(date):\n",
    "    filtered_data = transposed_df.loc[date]\n",
    "    merged_data = pd.merge(states, filtered_data, left_on='name', right_index=True)\n",
    "    merged_data['geometry'] = merged_data['geometry'].simplify(0.05)\n",
    "    merged_data_json = merged_data.to_json()\n",
    "    return GeoJSONDataSource(geojson=merged_data_json)"
   ]
  },
  {
   "cell_type": "code",
   "execution_count": 56,
   "id": "79e7b46d",
   "metadata": {},
   "outputs": [
    {
     "ename": "NameError",
     "evalue": "name 'transposed_df' is not defined",
     "output_type": "error",
     "traceback": [
      "\u001b[0;31m---------------------------------------------------------------------------\u001b[0m",
      "\u001b[0;31mNameError\u001b[0m                                 Traceback (most recent call last)",
      "Input \u001b[0;32mIn [56]\u001b[0m, in \u001b[0;36m<cell line: 2>\u001b[0;34m()\u001b[0m\n\u001b[1;32m      1\u001b[0m initial_date \u001b[38;5;241m=\u001b[39m pd\u001b[38;5;241m.\u001b[39mto_datetime(\u001b[38;5;124m'\u001b[39m\u001b[38;5;124m2001-01-01\u001b[39m\u001b[38;5;124m'\u001b[39m)\n\u001b[0;32m----> 2\u001b[0m geojson_source \u001b[38;5;241m=\u001b[39m \u001b[43mget_geojson_data\u001b[49m\u001b[43m(\u001b[49m\u001b[43minitial_date\u001b[49m\u001b[43m)\u001b[49m\n",
      "Input \u001b[0;32mIn [55]\u001b[0m, in \u001b[0;36mget_geojson_data\u001b[0;34m(date)\u001b[0m\n\u001b[1;32m      1\u001b[0m \u001b[38;5;28;01mdef\u001b[39;00m \u001b[38;5;21mget_geojson_data\u001b[39m(date):\n\u001b[0;32m----> 2\u001b[0m     filtered_data \u001b[38;5;241m=\u001b[39m \u001b[43mtransposed_df\u001b[49m\u001b[38;5;241m.\u001b[39mloc[date]\n\u001b[1;32m      3\u001b[0m     merged_data \u001b[38;5;241m=\u001b[39m pd\u001b[38;5;241m.\u001b[39mmerge(states, filtered_data, left_on\u001b[38;5;241m=\u001b[39m\u001b[38;5;124m'\u001b[39m\u001b[38;5;124mname\u001b[39m\u001b[38;5;124m'\u001b[39m, right_index\u001b[38;5;241m=\u001b[39m\u001b[38;5;28;01mTrue\u001b[39;00m)\n\u001b[1;32m      4\u001b[0m     merged_data[\u001b[38;5;124m'\u001b[39m\u001b[38;5;124mgeometry\u001b[39m\u001b[38;5;124m'\u001b[39m] \u001b[38;5;241m=\u001b[39m merged_data[\u001b[38;5;124m'\u001b[39m\u001b[38;5;124mgeometry\u001b[39m\u001b[38;5;124m'\u001b[39m]\u001b[38;5;241m.\u001b[39msimplify(\u001b[38;5;241m0.05\u001b[39m)\n",
      "\u001b[0;31mNameError\u001b[0m: name 'transposed_df' is not defined"
     ]
    }
   ],
   "source": [
    "initial_date = pd.to_datetime('2001-01-01')\n",
    "geojson_source = get_geojson_data(initial_date)"
   ]
  },
  {
   "cell_type": "code",
   "execution_count": null,
   "id": "d7fb83c6",
   "metadata": {},
   "outputs": [],
   "source": []
  }
 ],
 "metadata": {
  "kernelspec": {
   "display_name": "Python 3 (ipykernel)",
   "language": "python",
   "name": "python3"
  },
  "language_info": {
   "codemirror_mode": {
    "name": "ipython",
    "version": 3
   },
   "file_extension": ".py",
   "mimetype": "text/x-python",
   "name": "python",
   "nbconvert_exporter": "python",
   "pygments_lexer": "ipython3",
   "version": "3.10.4"
  }
 },
 "nbformat": 4,
 "nbformat_minor": 5
}
